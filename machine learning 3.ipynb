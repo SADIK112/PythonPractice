{
 "cells": [
  {
   "cell_type": "code",
   "execution_count": 35,
   "metadata": {},
   "outputs": [
    {
     "name": "stdout",
     "output_type": "stream",
     "text": [
      "(500, 16)\n",
      "Age                   500\n",
      "Polyuria              500\n",
      "Polydipsia            500\n",
      "sudden weight loss    500\n",
      "weakness              500\n",
      "Polyphagia            500\n",
      "Genital thrush        500\n",
      "visual blurring       500\n",
      "Itching               500\n",
      "Irritability          500\n",
      "delayed healing       500\n",
      "partial paresis       500\n",
      "muscle stiffness      500\n",
      "Alopecia              500\n",
      "Obesity               500\n",
      "class                 500\n",
      "dtype: int64\n",
      "500\n",
      "500\n",
      "Otcome Precision: %50.00\n"
     ]
    }
   ],
   "source": [
    "import numpy as np\n",
    "import matplotlib.pyplot as plt\n",
    "import pandas as pd\n",
    "\n",
    "%matplotlib inline\n",
    "data = pd.read_csv('Desktop/test.csv')\n",
    "print(data.shape)\n",
    "print(data.count())\n",
    "data.sample(5)\n",
    "\n",
    "num_true = len(data.loc[data['class']] == 1)\n",
    "num_false = len(data.loc[data['class']] == 0)\n",
    "\n",
    "print('Otcome Precision: %{0:2.2f}'.format((num_true/(num_true+num_false))*100))"
   ]
  },
  {
   "cell_type": "code",
   "execution_count": 61,
   "metadata": {},
   "outputs": [
    {
     "name": "stdout",
     "output_type": "stream",
     "text": [
      "[314] [186]\n",
      "train data accuracy: 0.7\n"
     ]
    }
   ],
   "source": [
    "from sklearn.model_selection import train_test_split\n",
    "\n",
    "feature_col_names = data.columns[:-1]\n",
    "\n",
    "predicted_class_name = data.columns[-1:]\n",
    "\n",
    "X = data[feature_col_names].values\n",
    "\n",
    "Y = data[predicted_class_name].values\n",
    "\n",
    "X_train, X_test, Y_train, Y_test = train_test_split(X,Y,test_size=0.30,random_state=42)\n",
    "\n",
    "print(\"train data accuracy: {0}\".format(len(X_train)/len(data)))\n",
    "\n",
    "num_features = 15"
   ]
  },
  {
   "cell_type": "code",
   "execution_count": 20,
   "metadata": {},
   "outputs": [
    {
     "name": "stdout",
     "output_type": "stream",
     "text": [
      "[0.47822 0.00502 0.00456 0.0042  0.00592 0.0046  0.00228 0.00454 0.00488\n",
      " 0.00248 0.00462 0.00434 0.0038  0.00342 0.0017 ]\n",
      "[0.00628]\n",
      "[12.10794433  0.499996    0.49806024  0.49355851  0.49146312  0.49839743\n",
      "  0.41954261  0.4978795   0.49985598  0.43185183  0.49855391  0.49562486\n",
      "  0.48538644  0.47437959  0.3756328 ]\n",
      "[0.48333839]\n"
     ]
    }
   ],
   "source": [
    "X_mean = np.mean(X, axis=0)/100\n",
    "Y_mean = np.mean(Y, axis=0)/100\n",
    "print(X_mean)\n",
    "print(Y_mean)\n",
    "\n",
    "X_std = np.std(X, axis = 0)\n",
    "Y_std = np.std(Y, axis = 0)\n",
    "print(X_std)\n",
    "print(Y_std)"
   ]
  },
  {
   "cell_type": "code",
   "execution_count": 25,
   "metadata": {},
   "outputs": [],
   "source": [
    "def calculate_log_likelihood(feature_vector, Class):\n",
    "    assert len(feature_vector) == num_features\n",
    "    log_likelihood = 0.0\n",
    "    if Class == 0:\n",
    "        for feature_index in range(len(feature_vector)):\n",
    "            if feature_vector[feature_index] == 1:\n",
    "                log_likelihood += np.log10(X_mean[feature_index])\n",
    "            elif feature_vector[feature_index] == 0:\n",
    "                log_likelihood += np.log10(1.0 - X_mean[feature_index])\n",
    "    elif Class == 1:\n",
    "        for feature_index in range(len(feature_vector)):\n",
    "            if feature_vector[feature_index] == 1:\n",
    "                log_likelihood += np.log10(Y_mean[feature_index])\n",
    "            elif feature_vector[feature_index] == 0:\n",
    "                log_likelihood += np.log10(1.0 - Y_mean[feature_index])\n",
    "    else:\n",
    "        raise ValueError(\"Class takes integer value 0 and 1\")\n",
    "        \n",
    "    return log_likelihood"
   ]
  },
  {
   "cell_type": "code",
   "execution_count": 62,
   "metadata": {},
   "outputs": [
    {
     "name": "stdout",
     "output_type": "stream",
     "text": [
      "[314] [186]\n"
     ]
    }
   ],
   "source": [
    "class_sum_1 = 0\n",
    "for i in Y:\n",
    "    if(i == 1):\n",
    "        class_sum_1 += i\n",
    "\n",
    "class_sum_0 = (len(Y) - class_sum_1)\n",
    "print(class_sum_1, class_sum_0)"
   ]
  },
  {
   "cell_type": "code",
   "execution_count": 63,
   "metadata": {},
   "outputs": [
    {
     "name": "stdout",
     "output_type": "stream",
     "text": [
      "[0.372] [0.628]\n"
     ]
    }
   ],
   "source": [
    "prior_probability_0 = class_sum_0 / (class_sum_0 + class_sum_1)\n",
    "prior_probability_1 = class_sum_1 / (class_sum_0 + class_sum_1)\n",
    "print(prior_probability_0, prior_probability_1)"
   ]
  },
  {
   "cell_type": "code",
   "execution_count": 64,
   "metadata": {},
   "outputs": [
    {
     "name": "stdout",
     "output_type": "stream",
     "text": [
      "[-0.42945706] [-0.20204036]\n"
     ]
    }
   ],
   "source": [
    "log_prior_class_0 = np.log10(prior_probability_0)\n",
    "log_prior_class_1 = np.log10(prior_probability_1)\n",
    "print(log_prior_class_0, log_prior_class_1)"
   ]
  },
  {
   "cell_type": "code",
   "execution_count": 65,
   "metadata": {},
   "outputs": [],
   "source": [
    "def calculate_class_posteriors(feature_vector):\n",
    "    log_likelihood_class_0 = calculate_log_likelihoods_with_naive_bayes(feature_vector, Class=0)\n",
    "    log_likelihood_class_1 = calculate_log_likelihoods_with_naive_bayes(feature_vector, Class=1)\n",
    "    \n",
    "    log_posterior_class_0 = log_likelihood_class_0 + log_prior_class_0\n",
    "    log_posterior_class_1 = log_likelihood_class_1 + log_prior_class_1\n",
    "    \n",
    "    return log_posterior_class_0, log_posterior_class_1"
   ]
  },
  {
   "cell_type": "code",
   "execution_count": 67,
   "metadata": {},
   "outputs": [],
   "source": [
    "def classify_diabetes(document_vector):\n",
    "    feature_vector = [int(element>0.0) for element in document_vector]\n",
    "    log_posterior_class_0, log_posterior_class_1 = calculate_class_posteriors(feature_vector)\n",
    "    if log_posterior_class_0 > log_posterior_class_1:\n",
    "        return 0\n",
    "    else:\n",
    "        return 1"
   ]
  },
  {
   "cell_type": "code",
   "execution_count": 68,
   "metadata": {},
   "outputs": [],
   "source": [
    "document_vector = [44,0,0,0,0,0,0,1,0,0,0,0,0,0,0]"
   ]
  },
  {
   "cell_type": "code",
   "execution_count": 69,
   "metadata": {},
   "outputs": [
    {
     "ename": "NameError",
     "evalue": "name 'calculate_log_likelihoods_with_naive_bayes' is not defined",
     "output_type": "error",
     "traceback": [
      "\u001b[1;31m---------------------------------------------------------------------------\u001b[0m",
      "\u001b[1;31mNameError\u001b[0m                                 Traceback (most recent call last)",
      "\u001b[1;32m<ipython-input-69-0c8933ac14cc>\u001b[0m in \u001b[0;36m<module>\u001b[1;34m()\u001b[0m\n\u001b[1;32m----> 1\u001b[1;33m \u001b[0mprint\u001b[0m\u001b[1;33m(\u001b[0m\u001b[0mclassify_diabetes\u001b[0m\u001b[1;33m(\u001b[0m\u001b[0mdocument_vector\u001b[0m\u001b[1;33m)\u001b[0m\u001b[1;33m)\u001b[0m\u001b[1;33m\u001b[0m\u001b[0m\n\u001b[0m",
      "\u001b[1;32m<ipython-input-67-e6236a9552fb>\u001b[0m in \u001b[0;36mclassify_diabetes\u001b[1;34m(document_vector)\u001b[0m\n\u001b[0;32m      1\u001b[0m \u001b[1;32mdef\u001b[0m \u001b[0mclassify_diabetes\u001b[0m\u001b[1;33m(\u001b[0m\u001b[0mdocument_vector\u001b[0m\u001b[1;33m)\u001b[0m\u001b[1;33m:\u001b[0m\u001b[1;33m\u001b[0m\u001b[0m\n\u001b[0;32m      2\u001b[0m     \u001b[0mfeature_vector\u001b[0m \u001b[1;33m=\u001b[0m \u001b[1;33m[\u001b[0m\u001b[0mint\u001b[0m\u001b[1;33m(\u001b[0m\u001b[0melement\u001b[0m\u001b[1;33m>\u001b[0m\u001b[1;36m0.0\u001b[0m\u001b[1;33m)\u001b[0m \u001b[1;32mfor\u001b[0m \u001b[0melement\u001b[0m \u001b[1;32min\u001b[0m \u001b[0mdocument_vector\u001b[0m\u001b[1;33m]\u001b[0m\u001b[1;33m\u001b[0m\u001b[0m\n\u001b[1;32m----> 3\u001b[1;33m     \u001b[0mlog_posterior_class_0\u001b[0m\u001b[1;33m,\u001b[0m \u001b[0mlog_posterior_class_1\u001b[0m \u001b[1;33m=\u001b[0m \u001b[0mcalculate_class_posteriors\u001b[0m\u001b[1;33m(\u001b[0m\u001b[0mfeature_vector\u001b[0m\u001b[1;33m)\u001b[0m\u001b[1;33m\u001b[0m\u001b[0m\n\u001b[0m\u001b[0;32m      4\u001b[0m     \u001b[1;32mif\u001b[0m \u001b[0mlog_posterior_class_0\u001b[0m \u001b[1;33m>\u001b[0m \u001b[0mlog_posterior_class_1\u001b[0m\u001b[1;33m:\u001b[0m\u001b[1;33m\u001b[0m\u001b[0m\n\u001b[0;32m      5\u001b[0m         \u001b[1;32mreturn\u001b[0m \u001b[1;36m0\u001b[0m\u001b[1;33m\u001b[0m\u001b[0m\n",
      "\u001b[1;32m<ipython-input-65-bd9d7b625cf0>\u001b[0m in \u001b[0;36mcalculate_class_posteriors\u001b[1;34m(feature_vector)\u001b[0m\n\u001b[0;32m      1\u001b[0m \u001b[1;32mdef\u001b[0m \u001b[0mcalculate_class_posteriors\u001b[0m\u001b[1;33m(\u001b[0m\u001b[0mfeature_vector\u001b[0m\u001b[1;33m)\u001b[0m\u001b[1;33m:\u001b[0m\u001b[1;33m\u001b[0m\u001b[0m\n\u001b[1;32m----> 2\u001b[1;33m     \u001b[0mlog_likelihood_class_0\u001b[0m \u001b[1;33m=\u001b[0m \u001b[0mcalculate_log_likelihoods_with_naive_bayes\u001b[0m\u001b[1;33m(\u001b[0m\u001b[0mfeature_vector\u001b[0m\u001b[1;33m,\u001b[0m \u001b[0mClass\u001b[0m\u001b[1;33m=\u001b[0m\u001b[1;36m0\u001b[0m\u001b[1;33m)\u001b[0m\u001b[1;33m\u001b[0m\u001b[0m\n\u001b[0m\u001b[0;32m      3\u001b[0m     \u001b[0mlog_likelihood_class_1\u001b[0m \u001b[1;33m=\u001b[0m \u001b[0mcalculate_log_likelihoods_with_naive_bayes\u001b[0m\u001b[1;33m(\u001b[0m\u001b[0mfeature_vector\u001b[0m\u001b[1;33m,\u001b[0m \u001b[0mClass\u001b[0m\u001b[1;33m=\u001b[0m\u001b[1;36m1\u001b[0m\u001b[1;33m)\u001b[0m\u001b[1;33m\u001b[0m\u001b[0m\n\u001b[0;32m      4\u001b[0m \u001b[1;33m\u001b[0m\u001b[0m\n\u001b[0;32m      5\u001b[0m     \u001b[0mlog_posterior_class_0\u001b[0m \u001b[1;33m=\u001b[0m \u001b[0mlog_likelihood_class_0\u001b[0m \u001b[1;33m+\u001b[0m \u001b[0mlog_prior_class_0\u001b[0m\u001b[1;33m\u001b[0m\u001b[0m\n",
      "\u001b[1;31mNameError\u001b[0m: name 'calculate_log_likelihoods_with_naive_bayes' is not defined"
     ]
    }
   ],
   "source": [
    "print(classify_diabetes(document_vector))"
   ]
  },
  {
   "cell_type": "code",
   "execution_count": null,
   "metadata": {},
   "outputs": [],
   "source": []
  }
 ],
 "metadata": {
  "kernelspec": {
   "display_name": "Python 3",
   "language": "python",
   "name": "python3"
  },
  "language_info": {
   "codemirror_mode": {
    "name": "ipython",
    "version": 3
   },
   "file_extension": ".py",
   "mimetype": "text/x-python",
   "name": "python",
   "nbconvert_exporter": "python",
   "pygments_lexer": "ipython3",
   "version": "3.6.8"
  }
 },
 "nbformat": 4,
 "nbformat_minor": 2
}
