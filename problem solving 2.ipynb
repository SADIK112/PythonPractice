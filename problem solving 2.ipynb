{
 "cells": [
  {
   "cell_type": "code",
   "execution_count": 4,
   "metadata": {},
   "outputs": [
    {
     "name": "stdout",
     "output_type": "stream",
     "text": [
      "2002,2009,2016,2023,2037,2044,2051,2058,2072,2079,2086,2093,2107,2114,2121,2128,2142,2149,2156,2163,2177,2184,2191,2198,2212,2219,2226,2233,2247,2254,2261,2268,2282,2289,2296,2303,2317,2324,2331,2338,2352,2359,2366,2373,2387,2394,2401,2408,2422,2429,2436,2443,2457,2464,2471,2478,2492,2499,2506,2513,2527,2534,2541,2548,2562,2569,2576,2583,2597,2604,2611,2618,2632,2639,2646,2653,2667,2674,2681,2688,2702,2709,2716,2723,2737,2744,2751,2758,2772,2779,2786,2793,2807,2814,2821,2828,2842,2849,2856,2863,2877,2884,2891,2898,2912,2919,2926,2933,2947,2954,2961,2968,2982,2989,2996,3003,3017,3024,3031,3038,3052,3059,3066,3073,3087,3094,3101,3108,3122,3129,3136,3143,3157,3164,3171,3178,3192,3199,3206\n"
     ]
    }
   ],
   "source": [
    "l = []\n",
    "\n",
    "for i in range(2000,3210):\n",
    "    if (i%7 == 0) and (i%5 != 0):\n",
    "        l.append(str(i))\n",
    "print(','.join(l))"
   ]
  },
  {
   "cell_type": "code",
   "execution_count": 8,
   "metadata": {},
   "outputs": [
    {
     "ename": "SyntaxError",
     "evalue": "invalid syntax (<ipython-input-8-21df0ec4fb65>, line 4)",
     "output_type": "error",
     "traceback": [
      "\u001b[1;36m  File \u001b[1;32m\"<ipython-input-8-21df0ec4fb65>\"\u001b[1;36m, line \u001b[1;32m4\u001b[0m\n\u001b[1;33m    else x * fact(x-1)\u001b[0m\n\u001b[1;37m         ^\u001b[0m\n\u001b[1;31mSyntaxError\u001b[0m\u001b[1;31m:\u001b[0m invalid syntax\n"
     ]
    }
   ],
   "source": [
    "def fact(x):\n",
    "    if x == 0:\n",
    "        return 1\n",
    "    return x * fact(x-1)\n",
    "x = int(input())\n",
    "print(fact(x))"
   ]
  },
  {
   "cell_type": "code",
   "execution_count": 15,
   "metadata": {},
   "outputs": [
    {
     "name": "stdout",
     "output_type": "stream",
     "text": [
      "8\n",
      "{1: 1, 2: 4, 3: 9, 4: 16, 5: 25, 6: 36, 7: 49, 8: 64}\n",
      "{1: 1, 2: 8, 3: 27, 4: 64, 5: 125, 6: 216, 7: 343, 8: 512}\n",
      "{1: 2, 2: 12, 3: 36, 4: 80, 5: 150, 6: 252, 7: 392, 8: 576}\n",
      "1,4,9,16,25,36,49,64\n",
      "204\n"
     ]
    }
   ],
   "source": [
    "n = int(input())\n",
    "d = dict()\n",
    "c = dict()\n",
    "e = dict()\n",
    "l = []\n",
    "sum = 0\n",
    "\n",
    "for i in range(1, n+1):\n",
    "    d[i] = i*i\n",
    "    c[i] = i*d[i]\n",
    "    e[i] = d[i]+c[i]\n",
    "    l.append(str(d[i]))\n",
    "    sum = sum+d[i]\n",
    "    \n",
    "print(d)\n",
    "print(c)\n",
    "print(e)\n",
    "print(','.join(l))\n",
    "print(sum)"
   ]
  },
  {
   "cell_type": "code",
   "execution_count": 18,
   "metadata": {},
   "outputs": [
    {
     "name": "stdout",
     "output_type": "stream",
     "text": [
      "1,2,3,4,5,6,7,8,9,10\n",
      "['1', '2', '3', '4', '5', '6', '7', '8', '9', '10']\n",
      "('1', '2', '3', '4', '5', '6', '7', '8', '9', '10')\n"
     ]
    }
   ],
   "source": [
    "n = input()\n",
    "x = n.split(',')\n",
    "t = tuple(x)\n",
    "\n",
    "print(x)\n",
    "print(t)"
   ]
  },
  {
   "cell_type": "code",
   "execution_count": 21,
   "metadata": {},
   "outputs": [
    {
     "name": "stdout",
     "output_type": "stream",
     "text": [
      "the car is lamborgini\n",
      "THE CAR IS LAMBORGINI\n"
     ]
    }
   ],
   "source": [
    "class Car(object):\n",
    "    def __init__(self):\n",
    "        self.s = \"\"\n",
    "    \n",
    "    def getString(self):\n",
    "        self.s = input()\n",
    "    def printString(self):\n",
    "        print(self.s.upper())\n",
    "\n",
    "x = Car()\n",
    "x.getString()\n",
    "x.printString()\n",
    "        "
   ]
  },
  {
   "cell_type": "code",
   "execution_count": 30,
   "metadata": {},
   "outputs": [
    {
     "name": "stdout",
     "output_type": "stream",
     "text": [
      "bugati red 2015\n",
      "20KM\n"
     ]
    }
   ],
   "source": [
    "class Car(object):\n",
    "    def __init__(self, model, color, version):\n",
    "        self.model = model\n",
    "        self.color = color\n",
    "        self.version= version\n",
    "        \n",
    "    def printAtt(self):\n",
    "        print(self.model, self.color, self.version)\n",
    "        \n",
    "    def milage(self):\n",
    "        print(\"20KM\")\n",
    "    \n",
    "x = Car('bugati', 'red', 2015)\n",
    "x.printAtt()\n",
    "x.milage()"
   ]
  },
  {
   "cell_type": "code",
   "execution_count": 4,
   "metadata": {},
   "outputs": [
    {
     "name": "stdout",
     "output_type": "stream",
     "text": [
      "22,33,44\n",
      "9,10,12\n"
     ]
    }
   ],
   "source": [
    "import math\n",
    "c=50\n",
    "h = 30\n",
    "\n",
    "value = []\n",
    "\n",
    "items = [x for x in input().split(',')]\n",
    "\n",
    "for i in items:\n",
    "    value.append(str(int(round(math.sqrt(2*c*float(i)/h)))))\n",
    "    \n",
    "print(','.join(value))\n",
    "\n",
    "\n"
   ]
  },
  {
   "cell_type": "code",
   "execution_count": null,
   "metadata": {},
   "outputs": [],
   "source": [
    "numbers = input()\n",
    "dimentions = [int(x) for x in numbers.split(',')]\n",
    "rowNum = dimentions[0]\n",
    "colNum = dimentions[1]\n",
    "multlist = [[0 for col in range(colNum)] for row in range(rowNum)]\n",
    "\n",
    "for row in range(rowNum):\n",
    "    for col in range(colNum):\n",
    "        multlist[row][col] = row*col\n",
    "        \n",
    "print(multlist)"
   ]
  },
  {
   "cell_type": "code",
   "execution_count": null,
   "metadata": {},
   "outputs": [],
   "source": [
    "lines = []\n",
    "\n",
    "while True:\n",
    "    s = raw_input()\n",
    "    if s:\n",
    "        lines.append(s.upper())\n",
    "    else:\n",
    "        break;\n",
    "        \n",
    "for i in lines:\n",
    "    print(i)"
   ]
  },
  {
   "cell_type": "code",
   "execution_count": null,
   "metadata": {},
   "outputs": [],
   "source": [
    "import re\n",
    "value = []\n",
    "items = [x for x in input().split(\",\")]\n",
    "for p in items:\n",
    "    if len(p)<6 or len(p)>12:\n",
    "        continue\n",
    "    else:\n",
    "        pass\n",
    "    if not re.search(\"[a-z]\", p):\n",
    "        continue\n",
    "    elif not re.search(\"[0-9]\", p):\n",
    "        continue\n",
    "    elif not re.search(\"[A-Z]\", p):\n",
    "        continue\n",
    "    elif not re.search(\"[@#$]\", p):\n",
    "        continue\n",
    "    elif re.search(\"\\s\", p):\n",
    "        continue\n",
    "    else:\n",
    "        pass\n",
    "    value.append(p)\n",
    "print(','.join(value))"
   ]
  },
  {
   "cell_type": "code",
   "execution_count": null,
   "metadata": {},
   "outputs": [],
   "source": [
    "from random import randint\n",
    "\n",
    "\n",
    "WORD_LIST = {\n",
    "    'rand_word_1': 'sergeanty',\n",
    "    'rand_word_2': 'amphipneustic',\n",
    "    'rand_word_3': 'hypochil',\n",
    "    'rand_word_4': 'grus',\n",
    "    'rand_word_5': 'depressed',\n",
    "    'rand_word_6': 'distortedly',\n",
    "    'rand_word_7': 'unselected',\n",
    "    'rand_word_8': 'crakow',\n",
    "    'rand_word_9': 'preendorsing',\n",
    "    'rand_word_10': 'convenient'\n",
    "}\n",
    "\n",
    "\n",
    "HANGMAN = (\n",
    "    \"\"\"\n",
    "    x-------x\n",
    "    \"\"\",\n",
    "    \"\"\"\n",
    "    x-------x\n",
    "    |\n",
    "    |\n",
    "    |\n",
    "    |\n",
    "    |\n",
    "    \"\"\",\n",
    "    \"\"\"\n",
    "    x-------x\n",
    "    |       |\n",
    "    |       0\n",
    "    |\n",
    "    |\n",
    "    |\n",
    "    \"\"\",\n",
    "    \"\"\"\n",
    "    x-------x\n",
    "    |       |\n",
    "    |       0\n",
    "    |       |\n",
    "    |\n",
    "    |\n",
    "    \"\"\",\n",
    "    \"\"\"\n",
    "    x-------x\n",
    "    |       |\n",
    "    |       0\n",
    "    |      /|\\\\\n",
    "    |\n",
    "    |\n",
    "    \"\"\",\n",
    "    \"\"\"\n",
    "    x-------x\n",
    "    |       |\n",
    "    |       0\n",
    "    |      /|\\\\\n",
    "    |      /\n",
    "    |\n",
    "    \"\"\",\n",
    "    \"\"\"\n",
    "    x-------x\n",
    "    |       |\n",
    "    |       0\n",
    "    |      /|\\\\\n",
    "    |      / \\\\\n",
    "    |\n",
    "    GAME OVER\n",
    "    \"\"\"\n",
    ")\n",
    "\n",
    "\n",
    "MAX = len(HANGMAN) - 1\n",
    "num = randint(1, 10)\n",
    "print(num)\n",
    "num_string = str(num)\n",
    "print(num_string)\n",
    "words = 'rand_word_{}'.format(num_string)\n",
    "print(words)\n",
    "WORD_TO_GUESS = WORD_LIST[words]\n",
    "HIDDEN = ['_'] * len(WORD_TO_GUESS)\n",
    "LETTERS_GUESSED = []\n",
    "\n",
    "\n",
    "def begin_game():\n",
    "    hang_size = 0\n",
    "    print(\"\\tHANGMAN!\")\n",
    "    word_arr = list(WORD_TO_GUESS)\n",
    "\n",
    "    while hang_size < MAX:\n",
    "        print(str(HIDDEN))\n",
    "        user_guess = input('Guess a letter dude: ')\n",
    "\n",
    "        if user_guess in LETTERS_GUESSED:\n",
    "            print('You already guessed that.. PAY ATTENTION!')\n",
    "            user_guess = input('Guess a letter dude: ')\n",
    "\n",
    "        if user_guess in word_arr:\n",
    "            print(\"Yeah yeah.. We're all impressed.. It's in the word woohoo..\")\n",
    "\n",
    "            for num in range(len(word_arr)):\n",
    "                if user_guess == word_arr[num]:\n",
    "                    HIDDEN[num] = user_guess\n",
    "                    if HIDDEN.count('_') == 0:\n",
    "                        print('You win! Finally you did something right!')\n",
    "                        quit()\n",
    "\n",
    "        else:\n",
    "            print(\"{}.. Really? That's the best you can do.. Not in my word..\".format(user_guess))\n",
    "            hang_size += 1\n",
    "            print(HANGMAN[hang_size])\n",
    "\n",
    "\n",
    "begin_game()"
   ]
  },
  {
   "cell_type": "code",
   "execution_count": 14,
   "metadata": {},
   "outputs": [
    {
     "ename": "SyntaxError",
     "evalue": "invalid syntax (<ipython-input-14-bd843a360302>, line 7)",
     "output_type": "error",
     "traceback": [
      "\u001b[1;36m  File \u001b[1;32m\"<ipython-input-14-bd843a360302>\"\u001b[1;36m, line \u001b[1;32m7\u001b[0m\n\u001b[1;33m    if (str(word_count[i])== str(word_count[j]):\u001b[0m\n\u001b[1;37m                                               ^\u001b[0m\n\u001b[1;31mSyntaxError\u001b[0m\u001b[1;31m:\u001b[0m invalid syntax\n"
     ]
    }
   ],
   "source": [
    "def is_isogram(string):\n",
    "    freq = {}\n",
    "    for letter in string.split():\n",
    "        word_count = list(letter)\n",
    "        for i in word_count:\n",
    "            for j in word_count:\n",
    "                if (str(word_count[i])== str(word_count[j]):\n",
    "                    \n",
    "                    print(1)\n",
    "        \n",
    "        \n",
    "is_isogram('acaca')"
   ]
  },
  {
   "cell_type": "code",
   "execution_count": 33,
   "metadata": {},
   "outputs": [
    {
     "name": "stdout",
     "output_type": "stream",
     "text": [
      "True\n"
     ]
    }
   ],
   "source": [
    "freq = {}   \n",
    "def is_isogram(string):\n",
    "    st = False\n",
    "    for word in string:\n",
    "        word_count = list(word)\n",
    "        for i in word_count:\n",
    "            freq[i] = freq.get(i,0)+1\n",
    "            \n",
    "    words = freq.keys()\n",
    "    for w in words:\n",
    "        if freq[w] == 1:\n",
    "            return True \n",
    "        elif freq[w] < 1 or freq[w] > 1:\n",
    "            return st\n",
    "            \n",
    "print(is_isogram('aba'))"
   ]
  },
  {
   "cell_type": "code",
   "execution_count": 58,
   "metadata": {},
   "outputs": [
    {
     "data": {
      "text/plain": [
       "True"
      ]
     },
     "execution_count": 58,
     "metadata": {},
     "output_type": "execute_result"
    }
   ],
   "source": [
    "def is_isogram(string):\n",
    "    string = string.lower()\n",
    "    for letter in string:\n",
    "        if string.count(letter) > 1: return False\n",
    "    return True\n",
    "is_isogram('isogram')"
   ]
  },
  {
   "cell_type": "code",
   "execution_count": 66,
   "metadata": {},
   "outputs": [
    {
     "data": {
      "text/plain": [
       "['A', 'B', 'C', 'D']"
      ]
     },
     "execution_count": 66,
     "metadata": {},
     "output_type": "execute_result"
    }
   ],
   "source": [
    "def unique_in_order(iterable):\n",
    "    newList = []\n",
    "    for item in iterable:\n",
    "        if len(newList) < 1 or not item == newList[len(newList) - 1]:\n",
    "            newList.append(item)\n",
    "    return newList\n",
    "\n",
    "unique_in_order('AAAABBBCCDAABBB')\n",
    "        "
   ]
  },
  {
   "cell_type": "code",
   "execution_count": null,
   "metadata": {},
   "outputs": [],
   "source": []
  }
 ],
 "metadata": {
  "kernelspec": {
   "display_name": "Python 3",
   "language": "python",
   "name": "python3"
  },
  "language_info": {
   "codemirror_mode": {
    "name": "ipython",
    "version": 3
   },
   "file_extension": ".py",
   "mimetype": "text/x-python",
   "name": "python",
   "nbconvert_exporter": "python",
   "pygments_lexer": "ipython3",
   "version": "3.6.8"
  }
 },
 "nbformat": 4,
 "nbformat_minor": 2
}
