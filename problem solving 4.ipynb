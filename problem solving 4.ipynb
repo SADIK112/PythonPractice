{
 "cells": [
  {
   "cell_type": "code",
   "execution_count": 5,
   "metadata": {},
   "outputs": [
    {
     "name": "stdout",
     "output_type": "stream",
     "text": [
      "UP 5\n",
      "DOWN 3\n",
      "LEFT 3\n",
      "RIGHT 2\n",
      "\n",
      "[2, -1]\n",
      "2\n"
     ]
    }
   ],
   "source": [
    "import math\n",
    "pos =[0,0]\n",
    "\n",
    "while True:\n",
    "    s = input()\n",
    "    if not s:\n",
    "        break\n",
    "    operations = s.split(\" \")\n",
    "    directions = operations[0]\n",
    "    dir_value = int(operations[1])\n",
    "    \n",
    "    if (directions == \"UP\"):\n",
    "        pos[0] += dir_value\n",
    "    elif (directions == \"DOWN\"):\n",
    "        pos[0] -= dir_value\n",
    "    elif (directions == \"LEFT\"):\n",
    "        pos[1] -= dir_value\n",
    "    elif (directions == \"RIGHT\"):\n",
    "        pos[1] += dir_value\n",
    "    else:\n",
    "        pass\n",
    "print(pos)\n",
    "print(int(math.floor(math.sqrt(pos[0]**2+pos[1]**2))))"
   ]
  },
  {
   "cell_type": "code",
   "execution_count": 17,
   "metadata": {},
   "outputs": [
    {
     "name": "stdout",
     "output_type": "stream",
     "text": [
      "hello\n",
      "{}\n"
     ]
    }
   ],
   "source": [
    "d = dict()\n",
    "\n",
    "s = input()\n",
    "words =[x for x in s.split(\" \")]\n",
    "\n",
    "for i in words:\n",
    "    y = d.keys()\n",
    "    =i\n",
    "print(d)"
   ]
  },
  {
   "cell_type": "code",
   "execution_count": 20,
   "metadata": {},
   "outputs": [
    {
     "name": "stdout",
     "output_type": "stream",
     "text": [
      "6\n"
     ]
    }
   ],
   "source": [
    "import math\n",
    "\n",
    "def binarySearch(li, key):\n",
    "    bottom = 0\n",
    "    top = len(li) - 1\n",
    "    index = -1\n",
    "    \n",
    "    while top >= bottom and index == -1:\n",
    "        mid = int(math.floor((top+bottom)/2.0))\n",
    "        if li[mid] == key:\n",
    "            index = mid\n",
    "        elif li[mid] < key:\n",
    "            bottom = mid + 1\n",
    "        else:\n",
    "            top = mid-1\n",
    "            \n",
    "    return index\n",
    "\n",
    "li = [3,6,7,8,10,11,14,15]\n",
    "print(binarySearch(li, 14))"
   ]
  },
  {
   "cell_type": "code",
   "execution_count": 25,
   "metadata": {},
   "outputs": [
    {
     "name": "stdout",
     "output_type": "stream",
     "text": [
      "[27, 30, 47, 12, 43, 18, 28, 91, 48, 23, 77, 59, 24, 87, 46, 33, 32, 20, 21, 79, 42, 55, 54, 39, 66, 40, 17, 97, 74, 60, 65, 15, 51, 63, 76, 49, 52, 57, 73, 96, 75, 22, 99, 19, 56, 90, 53, 44, 68, 67, 64, 95, 29, 81, 83, 62, 71, 14, 88, 41, 94, 34, 25, 72, 10, 58, 61, 78, 92, 84, 37, 16, 36, 70, 98, 45, 26, 80, 69, 11, 38, 13, 31, 93, 35, 50, 89, 85, 86, 82]\n"
     ]
    }
   ],
   "source": [
    "import random\n",
    "nums = [x for x in range(10,100)]\n",
    "random.shuffle(nums)\n",
    "print(nums)"
   ]
  },
  {
   "cell_type": "code",
   "execution_count": 27,
   "metadata": {},
   "outputs": [
    {
     "name": "stdout",
     "output_type": "stream",
     "text": [
      "[43, 17, 19, 22, 31]\n"
     ]
    }
   ],
   "source": [
    "from random import randint\n",
    "\n",
    "x = [randint(10, 100) for p in range(0, 5)]\n",
    "print(x)"
   ]
  },
  {
   "cell_type": "code",
   "execution_count": 35,
   "metadata": {},
   "outputs": [
    {
     "name": "stdout",
     "output_type": "stream",
     "text": [
      "2\n"
     ]
    }
   ],
   "source": [
    "import random \n",
    "print(random.choice([i for i in range(11) if i%2==0]))"
   ]
  },
  {
   "cell_type": "code",
   "execution_count": 42,
   "metadata": {},
   "outputs": [
    {
     "name": "stdout",
     "output_type": "stream",
     "text": [
      "70\n"
     ]
    }
   ],
   "source": [
    "import random\n",
    "print(random.choice([i for i in range(100) if i%5==0 and i%7==0]))"
   ]
  },
  {
   "cell_type": "code",
   "execution_count": 57,
   "metadata": {},
   "outputs": [
    {
     "name": "stdout",
     "output_type": "stream",
     "text": [
      "['5', '89', '8', '30', '95']\n"
     ]
    }
   ],
   "source": [
    "import random\n",
    "x = random.sample(range(100, 201), 5)\n",
    "values = []\n",
    "for i in x:\n",
    "    y = i - 100\n",
    "    values.append(str(y))\n",
    "print(values)\n"
   ]
  },
  {
   "cell_type": "code",
   "execution_count": 63,
   "metadata": {},
   "outputs": [
    {
     "name": "stdout",
     "output_type": "stream",
     "text": [
      "[170, 140, 120, 150, 110]\n"
     ]
    }
   ],
   "source": [
    "import random\n",
    "print(random.sample([i for i in range(100,201) if i%2==0 and i%5==0], 5))"
   ]
  },
  {
   "cell_type": "code",
   "execution_count": 64,
   "metadata": {},
   "outputs": [
    {
     "name": "stdout",
     "output_type": "stream",
     "text": [
      "9\n"
     ]
    }
   ],
   "source": [
    "import random\n",
    "print(random.randrange(7,16))"
   ]
  },
  {
   "cell_type": "code",
   "execution_count": 65,
   "metadata": {},
   "outputs": [
    {
     "ename": "TypeError",
     "evalue": "a bytes-like object is required, not 'str'",
     "traceback": [
      "\u001b[1;31m---------------------------------------------------------------------------\u001b[0m",
      "\u001b[1;31mTypeError\u001b[0m                                 Traceback (most recent call last)",
      "\u001b[1;32m<ipython-input-65-f2c7e1e5e1d4>\u001b[0m in \u001b[0;36m<module>\u001b[1;34m()\u001b[0m\n\u001b[0;32m      1\u001b[0m \u001b[1;32mimport\u001b[0m \u001b[0mzlib\u001b[0m\u001b[1;33m\u001b[0m\u001b[0m\n\u001b[0;32m      2\u001b[0m \u001b[0ms\u001b[0m \u001b[1;33m=\u001b[0m \u001b[1;34m'hello world!hello world!hello world!hello world!'\u001b[0m\u001b[1;33m\u001b[0m\u001b[0m\n\u001b[1;32m----> 3\u001b[1;33m \u001b[0mt\u001b[0m \u001b[1;33m=\u001b[0m \u001b[0mzlib\u001b[0m\u001b[1;33m.\u001b[0m\u001b[0mcompress\u001b[0m\u001b[1;33m(\u001b[0m\u001b[0ms\u001b[0m\u001b[1;33m)\u001b[0m\u001b[1;33m\u001b[0m\u001b[0m\n\u001b[0m\u001b[0;32m      4\u001b[0m \u001b[0mprint\u001b[0m\u001b[1;33m(\u001b[0m\u001b[0mt\u001b[0m\u001b[1;33m)\u001b[0m\u001b[1;33m\u001b[0m\u001b[0m\n",
      "\u001b[1;31mTypeError\u001b[0m: a bytes-like object is required, not 'str'"
     ],
     "output_type": "error"
    }
   ],
   "source": [
    "import zlib\n",
    "s = 'hello world!hello world!hello world!hello world!'\n",
    "t = zlib.compress(s)\n",
    "print(t\n",
    "print(zlib.decompress(t)"
   ]
  },
  {
   "cell_type": "code",
   "execution_count": null,
   "metadata": {},
   "outputs": [],
   "source": []
  }
 ],
 "metadata": {
  "kernelspec": {
   "display_name": "Python 3",
   "language": "python",
   "name": "python3"
  },
  "language_info": {
   "codemirror_mode": {
    "name": "ipython",
    "version": 3
   },
   "file_extension": ".py",
   "mimetype": "text/x-python",
   "name": "python",
   "nbconvert_exporter": "python",
   "pygments_lexer": "ipython3",
   "version": "3.6.8"
  }
 },
 "nbformat": 4,
 "nbformat_minor": 2
}
