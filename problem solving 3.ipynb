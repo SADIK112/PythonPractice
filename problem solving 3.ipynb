{
 "cells": [
  {
   "cell_type": "code",
   "execution_count": 1,
   "metadata": {},
   "outputs": [
    {
     "name": "stdout",
     "output_type": "stream",
     "text": [
      "0\n",
      "7\n",
      "14\n",
      "21\n",
      "28\n",
      "35\n",
      "42\n",
      "49\n",
      "56\n",
      "63\n",
      "70\n",
      "77\n",
      "84\n",
      "91\n",
      "98\n"
     ]
    }
   ],
   "source": [
    "def myNumbers(n):\n",
    "    i = 0\n",
    "    while i<n:\n",
    "        j = i\n",
    "        i = i+1\n",
    "        if (j%7 == 0):\n",
    "            yield j\n",
    "            \n",
    "for i in myNumbers(100):\n",
    "    print(i)\n",
    "    "
   ]
  },
  {
   "cell_type": "code",
   "execution_count": null,
   "metadata": {},
   "outputs": [],
   "source": []
  },
  {
   "cell_type": "code",
   "execution_count": 4,
   "metadata": {},
   "outputs": [
    {
     "name": "stdout",
     "output_type": "stream",
     "text": [
      "2\n"
     ]
    }
   ],
   "source": [
    "values = []\n",
    "\n",
    "for prime in range(2, 100):\n",
    "     isPrime = True\n",
    "     \n",
    "    \n",
    "        \n",
    "        \n",
    "        "
   ]
  },
  {
   "cell_type": "code",
   "execution_count": null,
   "metadata": {},
   "outputs": [],
   "source": [
    "import math\n",
    "pos =[0,0]\n",
    "\n",
    "while True:\n",
    "    s = input()\n",
    "    if not s:\n",
    "        break\n",
    "    operations = s.split(\" \")\n",
    "    directions = operations[0]\n",
    "    dir_value = int(operations[1])\n",
    "    \n",
    "    if (directions == \"UP\"):\n",
    "        pos[0] += dir_value\n",
    "    elif (direction == \"DOWN\"):\n",
    "        pos[0] -= dir_value\n",
    "    elif (directions == \"LEFT\"):\n",
    "        pos[1] -= dir_value\n",
    "    elif (directions == \"RIGHT\"):\n",
    "        pos[1] -= dir_value\n",
    "    else:\n",
    "        pass\n",
    "print(pos)"
   ]
  },
  {
   "cell_type": "code",
   "execution_count": 7,
   "metadata": {},
   "outputs": [
    {
     "name": "stdout",
     "output_type": "stream",
     "text": [
      "List\n",
      "['it', 'was', 'the', 'best', 'of', 'times', 'it', 'was', 'the', 'worst', 'of', 'times']\n",
      "\n",
      "Frequenct\n",
      "[2, 2, 2, 1, 2, 2, 2, 2, 2, 1, 2, 2]\n",
      "\n",
      "Pairs\n",
      "(('it', 2), ('was', 2), ('the', 2), ('best', 1), ('of', 2), ('times', 2), ('it', 2), ('was', 2), ('the', 2), ('worst', 1), ('of', 2), ('times', 2))\n"
     ]
    }
   ],
   "source": [
    "wordlist = \"it was the best of times it was the worst of times\"\n",
    "\n",
    "strWord = wordlist.split(\" \")\n",
    "\n",
    "freq = []\n",
    "\n",
    "for i in strWord:\n",
    "    freq.append(strWord.count(i))\n",
    "\n",
    "print(\"List\\n\" +str(strWord)+ \"\\n\")\n",
    "print(\"Frequenct\\n\" +str(freq)+ \"\\n\")\n",
    "print(\"Pairs\\n\" + str(tuple(zip(strWord, freq))))"
   ]
  },
  {
   "cell_type": "code",
   "execution_count": 8,
   "metadata": {},
   "outputs": [
    {
     "name": "stdout",
     "output_type": "stream",
     "text": [
      "sadikur\n"
     ]
    }
   ],
   "source": [
    "def maxStr(s1,s2):\n",
    "    l1 = len(s1)\n",
    "    l2 = len(s2)\n",
    "    if l1>l2:\n",
    "        print(s1)\n",
    "    elif l2>l1:\n",
    "        print(s2)\n",
    "    else:\n",
    "        print(s1)\n",
    "        print(s2)\n",
    "maxStr(\"hello\", \"sadikur\")\n",
    "        "
   ]
  },
  {
   "cell_type": "code",
   "execution_count": 9,
   "metadata": {},
   "outputs": [
    {
     "name": "stdout",
     "output_type": "stream",
     "text": [
      "it is an odd number\n"
     ]
    }
   ],
   "source": [
    "def checkEven(n):\n",
    "    if n%2 == 0:\n",
    "        print(\"it is an even number\")\n",
    "    else:\n",
    "        print(\"it is an odd number\")\n",
    "checkEven(7)"
   ]
  },
  {
   "cell_type": "code",
   "execution_count": 11,
   "metadata": {},
   "outputs": [
    {
     "name": "stdout",
     "output_type": "stream",
     "text": [
      "{1: 1, 2: 4, 3: 27}\n",
      "dict_keys([1, 2, 3])\n",
      "dict_values([1, 4, 27])\n"
     ]
    }
   ],
   "source": [
    "def printDict():\n",
    "    d = dict()\n",
    "    d[1] = 1\n",
    "    d[2] = 2**2\n",
    "    d[3] = 3**3\n",
    "    print(d)\n",
    "    print(d.keys())\n",
    "    print(d.values())\n",
    "printDict()"
   ]
  },
  {
   "cell_type": "code",
   "execution_count": 17,
   "metadata": {},
   "outputs": [
    {
     "name": "stdout",
     "output_type": "stream",
     "text": [
      "{1: 1, 2: 4, 3: 9, 4: 16, 5: 25, 6: 36, 7: 49, 8: 64, 9: 81, 10: 100, 11: 121, 12: 144, 13: 169, 14: 196, 15: 225, 16: 256, 17: 289, 18: 324, 19: 361, 20: 400}\n",
      "dict_items([(1, 1), (2, 4), (3, 9), (4, 16), (5, 25), (6, 36), (7, 49), (8, 64), (9, 81), (10, 100), (11, 121), (12, 144), (13, 169), (14, 196), (15, 225), (16, 256), (17, 289), (18, 324), (19, 361), (20, 400)])\n",
      "1 1\n",
      "2 4\n",
      "3 9\n",
      "4 16\n",
      "5 25\n",
      "6 36\n",
      "7 49\n",
      "8 64\n",
      "9 81\n",
      "10 100\n",
      "11 121\n",
      "12 144\n",
      "13 169\n",
      "14 196\n",
      "15 225\n",
      "16 256\n",
      "17 289\n",
      "18 324\n",
      "19 361\n",
      "20 400\n"
     ]
    }
   ],
   "source": [
    "def printDict():\n",
    "    d = dict()\n",
    "    for i in range(1,21):\n",
    "        d[i] = i**2\n",
    "    print(d)\n",
    "    print(d.items())\n",
    "    for(k,v) in d.items():\n",
    "        print(k,v)\n",
    "printDict()            "
   ]
  },
  {
   "cell_type": "code",
   "execution_count": 41,
   "metadata": {},
   "outputs": [
    {
     "name": "stdout",
     "output_type": "stream",
     "text": [
      "[1, 4, 9, 16, 25, 36, 49, 64, 81, 100, 121, 144, 169, 196, 225, 256, 289, 324, 361, 400, 441, 484, 529, 576, 625, 676, 729]\n",
      "[1, 4, 9, 16, 25]\n",
      "[1, 4, 9, 16, 25, 36, 49, 64, 81, 100, 121, 144, 169, 196, 225, 256, 289, 324, 361, 400, 441, 484]\n",
      "[529, 576, 625, 676, 729]\n",
      "[36, 49, 64, 81, 100, 121, 144, 169, 196, 225, 256, 289, 324, 361, 400, 441, 484, 529, 576, 625, 676, 729]\n",
      "(1, 4, 9, 16, 25, 36, 49, 64, 81, 100, 121, 144, 169, 196, 225, 256, 289, 324, 361, 400, 441, 484, 529, 576, 625, 676, 729)\n",
      "(1, 4, 9, 16, 25, 36, 49, 64, 81, 100, 121, 144, 169) (225, 256, 289, 324, 361, 400, 441, 484, 529, 576, 625, 676, 729)\n",
      "odd 1\n",
      "even 4\n",
      "odd 9\n",
      "even 16\n",
      "odd 25\n",
      "even 36\n",
      "odd 49\n",
      "even 64\n",
      "odd 81\n",
      "even 100\n",
      "odd 121\n",
      "even 144\n",
      "odd 169\n",
      "even 196\n",
      "odd 225\n",
      "even 256\n",
      "odd 289\n",
      "even 324\n",
      "odd 361\n",
      "even 400\n",
      "odd 441\n",
      "even 484\n",
      "odd 529\n",
      "even 576\n",
      "odd 625\n",
      "even 676\n",
      "odd 729\n"
     ]
    }
   ],
   "source": [
    "def printList():\n",
    "    l1 = list()\n",
    "    for i in range(1,28):\n",
    "        l1.append(i**2)\n",
    "    print(l1)\n",
    "    print(l1[:5])\n",
    "    print(l1[:-5])\n",
    "    print(l1[-5:])\n",
    "    print(l1[5:])\n",
    "    print(tuple(l1))\n",
    "    x = 0\n",
    "    for i in tuple(l1):\n",
    "        x += tuple(l1).count(i)\n",
    "    n = int(x/2)\n",
    "    firstN = tuple(l1[:n])\n",
    "    j = x-n\n",
    "    secondN = tuple(l1[j:])\n",
    "    print(firstN,secondN)\n",
    "    for i in tuple(l1):\n",
    "        if i%2 == 0:\n",
    "            print(\"even\", i)\n",
    "        elif i%2 == 1:\n",
    "            print(\"odd\", i)\n",
    "    \n",
    "printList()"
   ]
  },
  {
   "cell_type": "code",
   "execution_count": 48,
   "metadata": {},
   "outputs": [
    {
     "name": "stdout",
     "output_type": "stream",
     "text": [
      "[2, 4, 6, 8, 10, 12, 14, 16, 18, 20]\n",
      "[1, 4, 9, 16, 25, 36, 49, 64, 81, 100, 121, 144, 169, 196, 225, 256, 289, 324, 361, 400]\n",
      "[4, 16, 36, 64, 100, 144, 196, 256, 324, 400]\n",
      "[2, 4, 6, 8, 10, 12, 14, 16, 18, 20]\n"
     ]
    }
   ],
   "source": [
    "li =[1,2,3,4,5,6,7,8,9,10,11,12,13,14,15,16,17,18,19,20]\n",
    "evenNumbers = list(filter(lambda x: x%2==0, li))\n",
    "squaredNum = list(map(lambda x: x**2, li))\n",
    "combined = list(map(lambda x: x**2, filter(lambda x: x%2==0, li)))\n",
    "evenNum = list(filter(lambda x: x%2==0, range(1,21)))\n",
    "print(evenNumbers)\n",
    "print(squaredNum)\n",
    "print(combined)\n",
    "print(evenNum)"
   ]
  },
  {
   "cell_type": "code",
   "execution_count": 52,
   "metadata": {},
   "outputs": [
    {
     "name": "stdout",
     "output_type": "stream",
     "text": [
      "28.26\n",
      "18.84\n"
     ]
    }
   ],
   "source": [
    "class Circle(object):\n",
    "    def __init__(self, r):\n",
    "        self.radius = r\n",
    "    def area(self):\n",
    "        return self.radius**2*3.14\n",
    "    def circumference(self):\n",
    "        return self.radius*2*3.14\n",
    "aCircle = Circle(3)\n",
    "print(aCircle.area())\n",
    "print(aCircle.circumference())"
   ]
  },
  {
   "cell_type": "code",
   "execution_count": 56,
   "metadata": {},
   "outputs": [
    {
     "name": "stdout",
     "output_type": "stream",
     "text": [
      "25\n"
     ]
    }
   ],
   "source": [
    "class Rectangle(object):\n",
    "    def __init__(self,l,w):\n",
    "        self.length = l\n",
    "        self.width = w\n",
    "        \n",
    "    def area(self):\n",
    "        return self.length*self.width\n",
    "aRectangle = Rectangle(5,5)\n",
    "print(aRectangle.area())"
   ]
  },
  {
   "cell_type": "code",
   "execution_count": 64,
   "metadata": {},
   "outputs": [
    {
     "name": "stdout",
     "output_type": "stream",
     "text": [
      "4\n"
     ]
    }
   ],
   "source": [
    "class Shape(object):\n",
    "    def __init__(self):\n",
    "        pass\n",
    "    def area(self):\n",
    "        return 0\n",
    "    \n",
    "class Square(Shape):\n",
    "    def __init__(self,l):\n",
    "        Shape.__init__(self)\n",
    "        self.length = l\n",
    "    def area(self):\n",
    "        return self.length*self.length\n",
    "aSquare = Square(2)\n",
    "print(aSquare.area())"
   ]
  },
  {
   "cell_type": "code",
   "execution_count": 70,
   "metadata": {},
   "outputs": [
    {
     "name": "stdout",
     "output_type": "stream",
     "text": [
      "division by zero!\n",
      "In finally block for cleanup\n"
     ]
    }
   ],
   "source": [
    "def throws():\n",
    "    return 5/0\n",
    "\n",
    "try:\n",
    "    throws()\n",
    "except ZeroDivisionError:\n",
    "    print(\"division by zero!\")\n",
    "except Exception, err:\n",
    "    print(\"caught an exception!\")\n",
    "finally:\n",
    "    print(\"In finally block for cleanup\")"
   ]
  },
  {
   "cell_type": "code",
   "execution_count": 81,
   "metadata": {},
   "outputs": [
    {
     "name": "stdout",
     "output_type": "stream",
     "text": [
      "sadik@gmail.com\n",
      "('sadik', 'gmail.com', 'gmail.', 'com')\n",
      "gmail\n"
     ]
    }
   ],
   "source": [
    "import re\n",
    "\n",
    "email = input()\n",
    "regex1 = \"(\\w+)@((\\w+\\.)+(com))\"\n",
    "regex2 = \"(\\w+)@(\\w+)\\.(com)\"\n",
    "r2 = re.match(regex1,email)\n",
    "r3 = re.match(regex2,email)\n",
    "print(r2.group(1,2,3,4))\n",
    "print(r3.group(2))"
   ]
  },
  {
   "cell_type": "code",
   "execution_count": 83,
   "metadata": {},
   "outputs": [
    {
     "name": "stdout",
     "output_type": "stream",
     "text": [
      "2 num 3 digits\n",
      "['2', '3']\n",
      "[' ', ' ', ' ']\n"
     ]
    }
   ],
   "source": [
    "import re\n",
    "s = input()\n",
    "print(re.findall(\"\\d+\",s))\n"
   ]
  },
  {
   "cell_type": "code",
   "execution_count": 85,
   "metadata": {},
   "outputs": [
    {
     "name": "stdout",
     "output_type": "stream",
     "text": [
      "hello world!\n"
     ]
    }
   ],
   "source": [
    "unicodeString = u\"hello world!\"\n",
    "print(unicodeString)\n"
   ]
  },
  {
   "cell_type": "code",
   "execution_count": 2,
   "metadata": {},
   "outputs": [
    {
     "name": "stdout",
     "output_type": "stream",
     "text": [
      "1234\n",
      "One Two Three Four \n"
     ]
    }
   ],
   "source": [
    "numbers = {\n",
    "    \"1\": \"One\",\n",
    "    \"2\": \"Two\",\n",
    "    \"3\": \"Three\",\n",
    "    \"4\": \"Four\"\n",
    "}\n",
    "dec_num = input()\n",
    "output = \"\"\n",
    "for ch in dec_num:\n",
    "    output += numbers.get(ch, \"!\") + \" \"\n",
    "print(output)"
   ]
  },
  {
   "cell_type": "code",
   "execution_count": 3,
   "metadata": {},
   "outputs": [
    {
     "name": "stdout",
     "output_type": "stream",
     "text": [
      "<openpyxl.workbook.workbook.Workbook object at 0x00000284DCD3CB38>\n"
     ]
    }
   ],
   "source": [
    "import openpyxl as xl\n",
    "wb = xl.load_workbook(\"Desktop/transaction.xlsx\")\n",
    "print(wb)"
   ]
  },
  {
   "cell_type": "code",
   "execution_count": 4,
   "metadata": {},
   "outputs": [
    {
     "name": "stdout",
     "output_type": "stream",
     "text": [
      "a\n"
     ]
    },
    {
     "ename": "NameError",
     "evalue": "name 'unicode' is not defined",
     "output_type": "error",
     "traceback": [
      "\u001b[1;31m---------------------------------------------------------------------------\u001b[0m",
      "\u001b[1;31mNameError\u001b[0m                                 Traceback (most recent call last)",
      "\u001b[1;32m<ipython-input-4-afad0a798c40>\u001b[0m in \u001b[0;36m<module>\u001b[1;34m()\u001b[0m\n\u001b[0;32m      1\u001b[0m \u001b[0ms\u001b[0m \u001b[1;33m=\u001b[0m \u001b[0minput\u001b[0m\u001b[1;33m(\u001b[0m\u001b[1;33m)\u001b[0m\u001b[1;33m\u001b[0m\u001b[0m\n\u001b[1;32m----> 2\u001b[1;33m \u001b[0mu\u001b[0m \u001b[1;33m=\u001b[0m \u001b[0municode\u001b[0m\u001b[1;33m(\u001b[0m\u001b[0ms\u001b[0m\u001b[1;33m,\u001b[0m \u001b[1;34m'utf-8'\u001b[0m\u001b[1;33m)\u001b[0m\u001b[1;33m\u001b[0m\u001b[0m\n\u001b[0m\u001b[0;32m      3\u001b[0m \u001b[0mprint\u001b[0m\u001b[1;33m(\u001b[0m\u001b[0mu\u001b[0m\u001b[1;33m)\u001b[0m\u001b[1;33m\u001b[0m\u001b[0m\n",
      "\u001b[1;31mNameError\u001b[0m: name 'unicode' is not defined"
     ]
    }
   ],
   "source": [
    "s = input()\n",
    "u = unicode(s, 'utf-8')\n",
    "print(u)"
   ]
  },
  {
   "cell_type": "code",
   "execution_count": 6,
   "metadata": {},
   "outputs": [
    {
     "name": "stdout",
     "output_type": "stream",
     "text": [
      "5\n",
      "3.55\n",
      "None\n"
     ]
    }
   ],
   "source": [
    "def calSum():\n",
    "    n = int(input())\n",
    "    sum = 0.0\n",
    "    for i in range(1, n+1):\n",
    "        sum += float(float(i)/(i+1))\n",
    "    print(print(\"%.2f\" % sum))\n",
    "\n",
    "calSum()"
   ]
  },
  {
   "cell_type": "code",
   "execution_count": 7,
   "metadata": {},
   "outputs": [
    {
     "name": "stdout",
     "output_type": "stream",
     "text": [
      "5\n",
      "500\n"
     ]
    }
   ],
   "source": [
    "def f(n):\n",
    "    if n==0:\n",
    "        return 0\n",
    "    else:\n",
    "        return f(n-1)+100\n",
    "\n",
    "n = int(input())\n",
    "print(f(n))\n",
    "\n",
    "    "
   ]
  },
  {
   "cell_type": "code",
   "execution_count": 8,
   "metadata": {},
   "outputs": [
    {
     "name": "stdout",
     "output_type": "stream",
     "text": [
      "7\n",
      "13\n"
     ]
    }
   ],
   "source": [
    "def f(n):\n",
    "    if n==0:\n",
    "        return 0\n",
    "    elif n==1:\n",
    "        return 1\n",
    "    else:\n",
    "        return f(n-1)+f(n-2)\n",
    "\n",
    "n = int(input())\n",
    "print(f(n))"
   ]
  },
  {
   "cell_type": "code",
   "execution_count": 12,
   "metadata": {},
   "outputs": [
    {
     "name": "stdout",
     "output_type": "stream",
     "text": [
      "7\n",
      "0,1,1,2,3,5,8,13\n"
     ]
    }
   ],
   "source": [
    "def f(n):\n",
    "    if n==0:\n",
    "        return 0\n",
    "    elif n==1:\n",
    "        return 1\n",
    "    else:\n",
    "        return f(n-1)+f(n-2)\n",
    "\n",
    "n = int(input())\n",
    "values = [str(f(x)) for x in range(0, n+1)]\n",
    "print(','.join(values))"
   ]
  },
  {
   "cell_type": "code",
   "execution_count": 13,
   "metadata": {},
   "outputs": [
    {
     "name": "stdout",
     "output_type": "stream",
     "text": [
      "10\n",
      "0,2,4,6,8,10\n"
     ]
    }
   ],
   "source": [
    "def valueGen(n):\n",
    "    i = 0\n",
    "    while i<=n:\n",
    "        if i%2 == 0:\n",
    "            yield i\n",
    "        i += 1\n",
    "n =int(input())\n",
    "values = []\n",
    "for i in valueGen(n):\n",
    "    values.append(str(i))\n",
    "print(','.join(values))"
   ]
  },
  {
   "cell_type": "code",
   "execution_count": null,
   "metadata": {},
   "outputs": [],
   "source": [
    "def numDiv(n):\n",
    "    values = []\n",
    "    for i in range(0, n+1):\n",
    "        if i%5 == 0 and i%7 ==0:\n",
    "            yield i\n",
    "\n",
    "n = int(input())\n",
    "values = []\n",
    "for i in numDiv(n):\n",
    "    values.append(str(i))\n",
    "print(','.join(values))\n"
   ]
  },
  {
   "cell_type": "code",
   "execution_count": null,
   "metadata": {},
   "outputs": [],
   "source": [
    "myList = [2,4,6,8]\n",
    "for i in myList:\n",
    "    assert(i%2 == 0, \"even\")\n",
    "    "
   ]
  },
  {
   "cell_type": "code",
   "execution_count": null,
   "metadata": {},
   "outputs": [],
   "source": [
    "def binarySearch(li, key):\n",
    "    bottom = 0\n",
    "    top = len(li) - 1\n",
    "    index = -1\n",
    "    \n",
    "    while top > bottom and index == -1:\n",
    "        mid = int(math.floor((bottom+top)/2))\n",
    "        if li[mid] == key:\n",
    "            index = key\n",
    "        elif li[mid] < key:\n",
    "            bottom = mid + 1\n",
    "        else:\n",
    "            top = mid-1\n",
    "            \n",
    "    return index\n",
    "\n",
    "li = [1,2,3,4,5,6,7,8,9,10]\n",
    "print(binarySearch(li, ))\n",
    "        "
   ]
  }
 ],
 "metadata": {
  "kernelspec": {
   "display_name": "Python 3",
   "language": "python",
   "name": "python3"
  },
  "language_info": {
   "codemirror_mode": {
    "name": "ipython",
    "version": 3
   },
   "file_extension": ".py",
   "mimetype": "text/x-python",
   "name": "python",
   "nbconvert_exporter": "python",
   "pygments_lexer": "ipython3",
   "version": "3.6.8"
  }
 },
 "nbformat": 4,
 "nbformat_minor": 2
}
