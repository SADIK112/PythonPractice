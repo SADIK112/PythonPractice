{
 "cells": [
  {
   "cell_type": "code",
   "execution_count": null,
   "metadata": {},
   "outputs": [],
   "source": [
    "import sys\n",
    "from PyQt5.QtWidgets import QApplication, QWidget, QMainWindow, QPushButton, QMessageBox\n",
    "from PyQt5.QtGui import QIcon\n",
    "from PyQt5.QtCore import pyqtSlot\n",
    "\n",
    "class App(QMainWindow):\n",
    "    \n",
    "    def __init__(self):\n",
    "        super().__init__()\n",
    "        self.title = \"My App\"\n",
    "        self.left = 10\n",
    "        self.top = 10\n",
    "        self.width = 600\n",
    "        self.height = 500\n",
    "        self.initUI()\n",
    "\n",
    "    def initUI(self):\n",
    "        self.setWindowTitle(self.title)\n",
    "        self.setGeometry(self.left, self.top, self.width, self.height)\n",
    "        self.statusBar().showMessage('Message in statusbar.')\n",
    "        \n",
    "        buttonReply = QMessageBox.question(self, 'PyQt5 message', \"Do you like PyQt5?\", QMessageBox.Yes | QMessageBox.No, QMessageBox.No)\n",
    "        if buttonReply == QMessageBox.Yes:\n",
    "            print(\"Yes Clicked\")\n",
    "        else:\n",
    "            print(\"No Clicked\")\n",
    "            \n",
    "        button.move(100,70)\n",
    "        self.show()\n",
    "        \n",
    "  \n",
    "        \n",
    "if __name__ == '__main__':\n",
    "    app = QApplication(sys.argv)\n",
    "    ex = App()\n",
    "    sys.exit(app.exec_())"
   ]
  },
  {
   "cell_type": "code",
   "execution_count": null,
   "metadata": {},
   "outputs": [],
   "source": []
  }
 ],
 "metadata": {
  "kernelspec": {
   "display_name": "Python 3",
   "language": "python",
   "name": "python3"
  },
  "language_info": {
   "codemirror_mode": {
    "name": "ipython",
    "version": 3
   },
   "file_extension": ".py",
   "mimetype": "text/x-python",
   "name": "python",
   "nbconvert_exporter": "python",
   "pygments_lexer": "ipython3",
   "version": "3.6.8"
  }
 },
 "nbformat": 4,
 "nbformat_minor": 2
}
